{
 "cells": [
  {
   "cell_type": "markdown",
   "metadata": {},
   "source": [
    "TALLERES SEMANALES SEBASTIAN ALBARRACIN SILVA OBSERVABLES Y MEDIDAS"
   ]
  },
  {
   "cell_type": "markdown",
   "metadata": {},
   "source": [
    "Teoría cuántica básica, Observables y Medidas\n",
    "\n",
    "Simule el primer sistema cuántico descrito en la sección 4.1.\n",
    "\n",
    "El sistema consiste en una partícula confinada a un conjunto discreto de posiciones en una línea. El simulador debe permitir especificar el número de posiciones y un vector ket de estado asignando las amplitudes.\n",
    "\n",
    "1.El sistema debe calcular la probabilidad de encontrarlo en una posición en particular.\n",
    "\n",
    "\n",
    "RTA:"
   ]
  },
  {
   "cell_type": "code",
   "execution_count": 1,
   "metadata": {},
   "outputs": [
    {
     "name": "stdout",
     "output_type": "stream",
     "text": [
      "La probabilidad de encontrar la particula en la posicion dada es: 6.4 %\n"
     ]
    }
   ],
   "source": [
    "import numpy as np\n",
    "\n",
    "def norma(a):\n",
    "    norma = np.linalg.norm(a)\n",
    "    return norma\n",
    "\n",
    "def probabilidad_posicion(ket, position):\n",
    "    numerador = norma(ket[position]) ** 2\n",
    "    denominador = norma(ket) ** 2\n",
    "    return numerador /denominador\n",
    "\n",
    "\n",
    "def main():\n",
    "    ket = np.array([[-2+3j], [1-2.5j], [1+1j], [0+3j]])\n",
    "    probabilidad = probabilidad_posicion(ket, 2)\n",
    "    print(\"La probabilidad de encontrar la particula en la posicion dada es:\", probabilidad*100, \"%\")\n",
    "main()"
   ]
  },
  {
   "cell_type": "markdown",
   "metadata": {},
   "source": [
    "2. El sistema si se le da otro vector Ket debe buscar la probabilidad de transitar del primer vector al segundo.\n",
    "\n",
    "RTA:"
   ]
  },
  {
   "cell_type": "code",
   "execution_count": 2,
   "metadata": {},
   "outputs": [
    {
     "name": "stdout",
     "output_type": "stream",
     "text": [
      "La probabilidad de transitar del vector [[2.-1.j]\n",
      " [0.+3.j]] al vector [[1.+1.j ]\n",
      " [2.-1.2j]] es: 15.760000000000002\n"
     ]
    }
   ],
   "source": [
    "import numpy as np\n",
    "def transition_probability(ket1, ket2):\n",
    "    \n",
    "    producto_interno = np.vdot(ket2, ket1)\n",
    "    \n",
    "    transition_prob = np.abs(producto_interno)**2\n",
    "    \n",
    "    return transition_prob\n",
    "def main():\n",
    "    ket1 = np.array([[2-1j], [0+3j]])\n",
    "    ket2 = np.array([[1+1j], [2-1.2j]])\n",
    "    transicion_f = transition_probability(ket1, ket2)\n",
    "    print(f\"La probabilidad de transitar del vector {ket1} al vector {ket2} es:\", transicion_f)\n",
    "main()"
   ]
  },
  {
   "cell_type": "markdown",
   "metadata": {},
   "source": [
    "Complete los retos de programación del capítulo 4.\n",
    "\n",
    "1. Amplitud de transición. El sistema puede recibir dos vectores y calcular la probabilidad de transitar de el uno al otro después de hacer la observación\n",
    "\n",
    "RTA:"
   ]
  },
  {
   "cell_type": "code",
   "execution_count": 3,
   "metadata": {},
   "outputs": [
    {
     "name": "stdout",
     "output_type": "stream",
     "text": [
      "Amplitud de transición ⟨ket2|ket1⟩: (-0.2547550855426266+0.29394817562610775j)\n"
     ]
    }
   ],
   "source": [
    "import numpy as np\n",
    "\n",
    "def is_normalized(ket, tol=1e-10):\n",
    "\n",
    "    norm = np.linalg.norm(ket)\n",
    "    return np.abs(norm - 1) < tol\n",
    "\n",
    "def normalizado(ket):\n",
    "    \n",
    "    if not is_normalized(ket):\n",
    "        ket = normalize(ket)\n",
    "    return ket\n",
    "\n",
    "def normalize(ket):\n",
    "\n",
    "    norm = np.linalg.norm(ket)\n",
    "    \n",
    "    return ket / norm\n",
    "\n",
    "\n",
    "def transition_amplitude(ket1, ket2):\n",
    "    \n",
    "    # Producto interno ⟨ket2|ket1⟩, que es la amplitud de transición\n",
    "    amplitude = np.vdot(ket2, ket1)\n",
    "    \n",
    "    return amplitude\n",
    "\n",
    "def main():\n",
    "    ket1 = np.array([[2-1j], [0+3j]])\n",
    "    ket2 = np.array([[1+1j], [2-1.2j]])\n",
    "\n",
    "    ket1=normalizado(ket1)\n",
    "    ket2=normalizado(ket2)\n",
    "\n",
    "    amplitude = transition_amplitude(ket1, ket2)\n",
    "    print(f\"Amplitud de transición ⟨ket2|ket1⟩: {amplitude}\")\n",
    "main()"
   ]
  },
  {
   "cell_type": "markdown",
   "metadata": {},
   "source": [
    "2. Ahora con una matriz que describa un observable y un vector ket, el sistema revisa que la matriz sea hermitiana, y si lo es, calcula la media y la varianza del observable en el estado dado.\n",
    "\n",
    "RTA:"
   ]
  },
  {
   "cell_type": "code",
   "execution_count": 4,
   "metadata": {},
   "outputs": [
    {
     "name": "stdout",
     "output_type": "stream",
     "text": [
      "La matriz es hermitiana.\n",
      "Valor esperado ⟨A⟩: (31+0j)\n",
      "Varianza: (-834+0j)\n"
     ]
    }
   ],
   "source": [
    "import numpy as np\n",
    "\n",
    "def is_hermitian(matrix, tol=1e-10):\n",
    "    return np.allclose(matrix, np.conjugate(matrix.T), atol=tol)\n",
    "\n",
    "def expectation_value(matrix, ket):\n",
    "    return np.vdot(ket, np.dot(matrix, ket))\n",
    "\n",
    "def variance(matrix, ket):\n",
    "\n",
    "    expectation = expectation_value(matrix, ket)\n",
    "    \n",
    "    matrix_squared = np.dot(matrix, matrix)\n",
    "    expectation_squared = expectation_value(matrix_squared, ket)\n",
    "    \n",
    "    variance = expectation_squared - np.abs(expectation)**2\n",
    "    \n",
    "    return variance\n",
    "\n",
    "observable = np.array([[1, 2j, 0],\n",
    "                       [-2j, 3, 0],\n",
    "                       [0, 0, 2]])\n",
    "\n",
    "ket = [1+0j, 3+1j, 1+1j]\n",
    "\n",
    "if is_hermitian(observable):\n",
    "    print(\"La matriz es hermitiana.\")\n",
    "    \n",
    "    expected_value = expectation_value(observable, ket)\n",
    "    print(f\"Valor esperado ⟨A⟩: {expected_value}\")\n",
    "    \n",
    "    var = variance(observable, ket)\n",
    "    print(f\"Varianza: {var}\")\n",
    "else:\n",
    "    print(\"La matriz no es hermitiana.\")"
   ]
  },
  {
   "cell_type": "markdown",
   "metadata": {},
   "source": [
    "3. El sistema calcula los valores propios del observable y la probabilidad de que el sistema transite a alguno de los vectores propios después de la observación.\n",
    "\n",
    "RTA:"
   ]
  },
  {
   "cell_type": "code",
   "execution_count": 5,
   "metadata": {},
   "outputs": [
    {
     "name": "stdout",
     "output_type": "stream",
     "text": [
      "La matriz es hermitiana.\n",
      "Valores propios: [-0.23606798  2.          4.23606798]\n",
      "Vectores propios:\n",
      "[[-0.85065081+0.j          0.        +0.j          0.52573111+0.j        ]\n",
      " [ 0.        -0.52573111j  0.        +0.j          0.        -0.85065081j]\n",
      " [ 0.        +0.j          1.        +0.j          0.        +0.j        ]]\n",
      "Probabilidad de transitar al vector propio 0: 2.9999999999999987\n",
      "Probabilidad de transitar al vector propio 1: 9.0\n",
      "Probabilidad de transitar al vector propio 2: 2.9999999999999987\n"
     ]
    }
   ],
   "source": [
    "import numpy as np\n",
    "\n",
    "def is_hermitian(matrix, tol=1e-10):\n",
    "    return np.allclose(matrix, np.conjugate(matrix.T), atol=tol)\n",
    "\n",
    "def eigenvalues_and_eigenvectors(matrix):\n",
    "    \n",
    "    eigenvalues, eigenvectors = np.linalg.eigh(matrix)  # eigh para matrices hermitianas\n",
    "    return eigenvalues, eigenvectors\n",
    "\n",
    "def transition_probabilities_to_eigenstates(ket, eigenvectors):\n",
    "\n",
    "    ket = np.array(ket, dtype=complex)\n",
    "    probabilities = []\n",
    "    \n",
    "    for eigenvector in eigenvectors.T:\n",
    "        amplitude = np.vdot(eigenvector, ket)  # Producto interno entre el ket y el vector propio\n",
    "        probability = np.abs(amplitude)**2  # Probabilidad es el valor absoluto al cuadrado\n",
    "        probabilities.append(probability)\n",
    "    \n",
    "    return probabilities\n",
    "\n",
    "\n",
    "observable = np.array([[1, 2j, 0],\n",
    "                       [-2j, 3, 0],\n",
    "                       [0, 0, 2]])\n",
    "\n",
    "ket = [1+0j, 2+1j, 3+0j]\n",
    "\n",
    "if is_hermitian(observable):\n",
    "    print(\"La matriz es hermitiana.\")\n",
    "    \n",
    "    eigenvalues, eigenvectors = eigenvalues_and_eigenvectors(observable)\n",
    "    print(f\"Valores propios: {eigenvalues}\")\n",
    "    print(f\"Vectores propios:\\n{eigenvectors}\")\n",
    "    \n",
    "    transition_probs = transition_probabilities_to_eigenstates(ket, eigenvectors)\n",
    "    \n",
    "    for i, prob in enumerate(transition_probs):\n",
    "        print(f\"Probabilidad de transitar al vector propio {i}: {prob}\")\n",
    "else:\n",
    "    print(\"La matriz no es hermitiana.\")"
   ]
  },
  {
   "cell_type": "markdown",
   "metadata": {},
   "source": [
    "4. Se considera la dinámica del sistema. Ahora con una serie de matrices Un el sistema calcula el estado final a partir de un estado inicial.\n",
    "\n",
    "RTA:\n"
   ]
  },
  {
   "cell_type": "code",
   "execution_count": 7,
   "metadata": {},
   "outputs": [
    {
     "name": "stdout",
     "output_type": "stream",
     "text": [
      "El estado final del sistema es: [0 1]\n"
     ]
    }
   ],
   "source": [
    "import numpy as np\n",
    "\n",
    "def calcular_estado_final(estado_inicial, matrices_unitarias):\n",
    "    estado_actual = estado_inicial\n",
    "    for matriz_unitaria in matrices_unitarias:\n",
    "        estado_actual = np.dot(matriz_unitaria, estado_actual)\n",
    "    return estado_actual\n",
    "\n",
    "estado_inicial = np.array([1, 0])  \n",
    "matrices_unitarias = [np.array([[0, 1], [1, 0]]), \n",
    "                      np.array([[1, 0], [0, 1]])]\n",
    "\n",
    "estado_final = calcular_estado_final(estado_inicial, matrices_unitarias)\n",
    "print(\"El estado final del sistema es:\", estado_final)"
   ]
  },
  {
   "cell_type": "markdown",
   "metadata": {},
   "source": [
    "4.3.1\n",
    "\n",
    "RTA:"
   ]
  },
  {
   "cell_type": "code",
   "execution_count": 8,
   "metadata": {},
   "outputs": [
    {
     "name": "stdout",
     "output_type": "stream",
     "text": [
      "Probabilidad de transición en spin up: 0\n",
      "Probabilidad de transición en spin down: 1\n"
     ]
    }
   ],
   "source": [
    "import numpy as np\n",
    "\n",
    "# Estado inicial\n",
    "estado_inicial = np.array([1, 0])\n",
    "\n",
    "# Matriz del operador Sx (spin en x)\n",
    "Sx = np.array([[0, 1], [1, 0]])\n",
    "\n",
    "# Aplicación del operador Sx al estado inicial\n",
    "estado_resultante = np.dot(Sx, estado_inicial)\n",
    "\n",
    "# Cálculo de la probabilidad de spin up y spin down\n",
    "probabilidad_spin_up = abs(estado_resultante[0])**2\n",
    "probabilidad_spin_down = abs(estado_resultante[1])**2\n",
    "\n",
    "# Imprimir los resultados\n",
    "print(\"Probabilidad de transición en spin up:\", probabilidad_spin_up)\n",
    "print(\"Probabilidad de transición en spin down:\", probabilidad_spin_down)"
   ]
  },
  {
   "cell_type": "markdown",
   "metadata": {},
   "source": [
    "4.3.2\n",
    "\n",
    "RTA:"
   ]
  },
  {
   "cell_type": "code",
   "execution_count": 9,
   "metadata": {},
   "outputs": [
    {
     "name": "stdout",
     "output_type": "stream",
     "text": [
      "Probabilidad de transición en spin up: 0\n",
      "Probabilidad de transición en spin down: 1\n"
     ]
    },
    {
     "data": {
      "image/png": "[encoded data removed]",
      "text/plain": [
       "<Figure size 640x480 with 1 Axes>"
      ]
     },
     "metadata": {},
     "output_type": "display_data"
    }
   ],
   "source": [
    "import numpy as np\n",
    "import matplotlib.pyplot as plt\n",
    "\n",
    "# Estado inicial\n",
    "estado_inicial = np.array([1, 0])\n",
    "\n",
    "# Operador Sy (spin en y)\n",
    "Sy = np.array([[0, 1], [1, 0]])\n",
    "\n",
    "# Aplicación del operador Sy al estado inicial\n",
    "estado_resultante = np.dot(Sy, estado_inicial)\n",
    "\n",
    "# Cálculo de la probabilidad de spin up y spin down\n",
    "probabilidad_spin_up = abs(estado_resultante[0])**2\n",
    "probabilidad_spin_down = abs(estado_resultante[1])**2\n",
    "\n",
    "# Imprimir los resultados\n",
    "print(\"Probabilidad de transición en spin up:\", probabilidad_spin_up)\n",
    "print(\"Probabilidad de transición en spin down:\", probabilidad_spin_down)\n",
    "\n",
    "# Cálculo de los valores propios del operador Sy\n",
    "valores_propios, _ = np.linalg.eig(Sy)\n",
    "\n",
    "# Gráfico de la distribución de probabilidad para los valores propios\n",
    "plt.bar(np.arange(len(valores_propios)), abs(estado_resultante)**2)\n",
    "plt.xticks(np.arange(len(valores_propios)), valores_propios)\n",
    "plt.xlabel('Valores propios')\n",
    "plt.ylabel('Probabilidad')\n",
    "plt.title('Distribución de probabilidad para los valores propios')\n",
    "plt.show()"
   ]
  },
  {
   "cell_type": "markdown",
   "metadata": {},
   "source": [
    "4.4.1\n",
    "\n",
    "RTA:"
   ]
  },
  {
   "cell_type": "code",
   "execution_count": 10,
   "metadata": {},
   "outputs": [
    {
     "name": "stdout",
     "output_type": "stream",
     "text": [
      "U1 es unitaria\n",
      "U2 es unitaria\n",
      "El producto de U1 y U2 es unitario\n"
     ]
    }
   ],
   "source": [
    "import numpy as np\n",
    "\n",
    "# Matrices U1 y U2\n",
    "U1 = np.array([[0, 1], [1, 0]])\n",
    "U2 = np.array([[np.sqrt(2)/2, np.sqrt(2)/2], [np.sqrt(2)/2, -np.sqrt(2)/2]])\n",
    "\n",
    "# Verificación de unitariedad de U1\n",
    "unitaria_U1 = \"es\" if np.allclose(np.dot(U1.conj().T, U1), np.eye(2)) else \"no es\"\n",
    "\n",
    "# Verificación de unitariedad de U2\n",
    "unitaria_U2 = \"es\" if np.allclose(np.dot(U2.conj().T, U2), np.eye(2)) else \"no es\"\n",
    "\n",
    "# Producto de U1 y U2\n",
    "producto_U1_U2 = np.dot(U1, U2)\n",
    "\n",
    "# Verificación de unitariedad del producto\n",
    "producto_unitario = \"es\" if np.allclose(np.dot(producto_U1_U2.conj().T, producto_U1_U2), np.eye(2)) else \"no es\"\n",
    "\n",
    "# Resultados\n",
    "print(\"U1\", unitaria_U1, \"unitaria\")\n",
    "print(\"U2\", unitaria_U2, \"unitaria\")\n",
    "print(\"El producto de U1 y U2\", producto_unitario, \"unitario\")"
   ]
  },
  {
   "cell_type": "markdown",
   "metadata": {},
   "source": [
    "4.4.2\n",
    "\n",
    "RTA:"
   ]
  },
  {
   "cell_type": "code",
   "execution_count": 11,
   "metadata": {},
   "outputs": [
    {
     "name": "stdout",
     "output_type": "stream",
     "text": [
      "El estado del sistema después de 3 tiempos es: [ 0.        +0.j         -0.70710678+0.70710678j  0.        +0.j\n",
      "  0.        +0.j        ]\n",
      "Probabilidad de encontrar la bola cuántica en el punto 3: 0.0\n"
     ]
    }
   ],
   "source": [
    "import numpy as np\n",
    "\n",
    "# Mapa\n",
    "mapa = np.array([\n",
    "    [0, 1/np.sqrt(2), 1/np.sqrt(2), 0],\n",
    "    [1j/np.sqrt(2), 0, 0, 1/np.sqrt(2)],\n",
    "    [1/np.sqrt(2), 0, 0, 1j/np.sqrt(2)],\n",
    "    [0, 1/np.sqrt(2), -1/np.sqrt(2), 0]\n",
    "])\n",
    "\n",
    "estado_inicial = np.array([1, 0, 0, 0])\n",
    "\n",
    "# Aplicar el mapa 3 veces\n",
    "estado_final = np.linalg.matrix_power(mapa, 3) @ estado_inicial\n",
    "\n",
    "# Calcular probabilidad\n",
    "probabilidad_punto = np.abs(estado_final[2])**2\n",
    "\n",
    "# Resultados\n",
    "print(\"El estado del sistema después de 3 tiempos es:\", estado_final)\n",
    "print(\"Probabilidad de encontrar la bola cuántica en el punto 3:\", probabilidad_punto)"
   ]
  },
  {
   "cell_type": "markdown",
   "metadata": {},
   "source": [
    "DISCUSIONES DE LOS EJERCICIOS 4.5.2 Y 4.5.3"
   ]
  },
  {
   "attachments": {
    "image-2.png": {
     "image/png": "[encoded data removed]"
    },
    "image.png": {
     "image/png": "[encoded data removed]"
    }
   },
   "cell_type": "markdown",
   "metadata": {},
   "source": [
    "4.5.2\n",
    "Escribe el vector de estado genérico para el sistema de dos partículas con espín. Generalízalo a un sistema con n partículas (esto es importante: ¡será la realización física para registros cuánticos!).\n",
    "\n",
    "RTA:\n",
    "\n",
    "El vector de estado genérico para el sistema de dos partículas con espín, denotado como ∣Ψ⟩, es el producto tensorial de los vectores de estado individuales:\n",
    "\n",
    "![image.png](attachment:image.png)\n",
    "\n",
    "Para generalizar este concepto a un sistema con n partículas, podemos extender el producto tensorial para incluir todos los n vectores de estado individuales:\n",
    "\n",
    "![image-2.png](attachment:image-2.png)\n"
   ]
  },
  {
   "attachments": {
    "image-2.png": {
     "image/png": "[encoded data removed]"
    },
    "image-3.png": {
     "image/png": "[encoded data removed]"
    },
    "image-4.png": {
     "image/png": "[encoded data removed]"
    },
    "image.png": {
     "image/png": "[encoded data removed]"
    }
   },
   "cell_type": "markdown",
   "metadata": {},
   "source": [
    "4.5.3\n",
    "Supón el mismo escenario que en el Ejemplo 4.5.2 y deja\n",
    "\n",
    "![image.png](attachment:image.png)\n",
    "\n",
    "¿Es este estado separable?\n",
    "\n",
    "RTA:\n",
    "\n",
    "Teniendo ∣ϕ⟩ en terminos de estado de la base:\n",
    "\n",
    "![image-2.png](attachment:image-2.png)\n",
    "\n",
    "Intentamos expresar esto como un producto tensorial de dos estados. Buscaremos estados ∣α⟩ y ∣β⟩ tales que:\n",
    "\n",
    "![image-3.png](attachment:image-3.png)\n",
    "\n",
    "Expandiendo el producto tensorial, obtenemos:\n",
    "\n",
    "![image-4.png](attachment:image-4.png)\n",
    "\n",
    "Comparando esto con la expresión para ∣ϕ⟩, podemos ver que es imposible encontrar coeficientes a, b, c y d de manera que las dos expresiones sean iguales.\n",
    "\n",
    "En conclusión el estado ∣ϕ⟩ dado por la Ecuación no es separable. Está entrelazado.\n",
    "\n"
   ]
  }
 ],
 "metadata": {
  "kernelspec": {
   "display_name": "Python 3",
   "language": "python",
   "name": "python3"
  },
  "language_info": {
   "codemirror_mode": {
    "name": "ipython",
    "version": 3
   },
   "file_extension": ".py",
   "mimetype": "text/x-python",
   "name": "python",
   "nbconvert_exporter": "python",
   "pygments_lexer": "ipython3",
   "version": "3.11.9"
  }
 },
 "nbformat": 4,
 "nbformat_minor": 2
}
